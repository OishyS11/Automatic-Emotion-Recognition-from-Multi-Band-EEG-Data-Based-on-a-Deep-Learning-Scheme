{
  "nbformat": 4,
  "nbformat_minor": 0,
  "metadata": {
    "colab": {
      "provenance": []
    },
    "kernelspec": {
      "name": "python3",
      "display_name": "Python 3"
    },
    "language_info": {
      "name": "python"
    }
  },
  "cells": [
    {
      "cell_type": "code",
      "execution_count": null,
      "metadata": {
        "id": "n8mMS4AMbQ8Y"
      },
      "outputs": [],
      "source": [
        "def spectral_power_fft(x, Fs):\n",
        "    N = len(x)\n",
        "    #PSD\n",
        "    X = (2/(Fs*N)) * np.square(np.abs(np.fft.fft(x)))\n",
        "    X = X[:N//2]\n",
        "    SUM = np.sum(X)\n",
        "    return SUM"
      ]
    }
  ]
}