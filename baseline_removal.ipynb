{
  "nbformat": 4,
  "nbformat_minor": 0,
  "metadata": {
    "colab": {
      "provenance": []
    },
    "kernelspec": {
      "name": "python3",
      "display_name": "Python 3"
    },
    "language_info": {
      "name": "python"
    }
  },
  "cells": [
    {
      "cell_type": "code",
      "execution_count": null,
      "metadata": {
        "id": "n8mMS4AMbQ8Y"
      },
      "outputs": [],
      "source": [
        "def baseline_remove(XR):\n",
        "  XT = XR[:, 384:]\n",
        "  XB_ = (XR[:, :1*128] + XR[:, 1*128:2*128] + XR[:, 2*128:3*128])/3.0\n",
        "  for i in range(60):\n",
        "    XT[:, i*128:(i+1)*128] = XT[:, i*128:(i+1)*128] - XB_\n",
        "  return XT"
      ]
    }
  ]
}